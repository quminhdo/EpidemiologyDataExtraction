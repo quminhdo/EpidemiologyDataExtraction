{
 "cells": [
  {
   "cell_type": "code",
   "execution_count": 1,
   "id": "a68dc20b-34aa-4aeb-9602-11a522650557",
   "metadata": {},
   "outputs": [],
   "source": [
    "import pandas as pd\n",
    "import os\n",
    "from glob import glob\n",
    "import numpy as np"
   ]
  },
  {
   "cell_type": "code",
   "execution_count": 2,
   "id": "b7e79d59-77c4-4fb1-badc-5fd144f03820",
   "metadata": {},
   "outputs": [
    {
     "data": {
      "text/html": [
       "<div>\n",
       "<style scoped>\n",
       "    .dataframe tbody tr th:only-of-type {\n",
       "        vertical-align: middle;\n",
       "    }\n",
       "\n",
       "    .dataframe tbody tr th {\n",
       "        vertical-align: top;\n",
       "    }\n",
       "\n",
       "    .dataframe thead th {\n",
       "        text-align: right;\n",
       "    }\n",
       "</style>\n",
       "<table border=\"1\" class=\"dataframe\">\n",
       "  <thead>\n",
       "    <tr style=\"text-align: right;\">\n",
       "      <th></th>\n",
       "      <th>File Name</th>\n",
       "      <th>First Author</th>\n",
       "      <th>Publication Year</th>\n",
       "      <th>Study Title</th>\n",
       "      <th>Study Description</th>\n",
       "    </tr>\n",
       "  </thead>\n",
       "  <tbody>\n",
       "    <tr>\n",
       "      <th>0</th>\n",
       "      <td>00000_1-s2.0-S1096719217300525-main.txt</td>\n",
       "      <td>Deborah A Bilder</td>\n",
       "      <td>2017</td>\n",
       "      <td>Neuropsychiatric comorbidities in adults with ...</td>\n",
       "      <td>The purpose of the current study is to investi...</td>\n",
       "    </tr>\n",
       "    <tr>\n",
       "      <th>1</th>\n",
       "      <td>00001_10.1177_0033354919864363.txt</td>\n",
       "      <td>Madeleine M Baker-Goering</td>\n",
       "      <td>2019</td>\n",
       "      <td>Association Between Self-Reported Hypertension...</td>\n",
       "      <td>We examined whether patients whose insurance c...</td>\n",
       "    </tr>\n",
       "    <tr>\n",
       "      <th>2</th>\n",
       "      <td>00002_10.1177_1176935117712520.txt</td>\n",
       "      <td>Sherif M El-Refai</td>\n",
       "      <td>2017</td>\n",
       "      <td>Immune Checkpoint Inhibition and the Prevalenc...</td>\n",
       "      <td>We sought to identify, among patients with lun...</td>\n",
       "    </tr>\n",
       "    <tr>\n",
       "      <th>3</th>\n",
       "      <td>00003_10.1177_1745506520965898.txt</td>\n",
       "      <td>Stephanie J Estes</td>\n",
       "      <td>2020</td>\n",
       "      <td>The impact of high-risk and chronic opioid use...</td>\n",
       "      <td>Evaluate all-cause and endometriosis-related h...</td>\n",
       "    </tr>\n",
       "    <tr>\n",
       "      <th>4</th>\n",
       "      <td>00004_10.1177_1941738118803616.txt</td>\n",
       "      <td>Mackenzie M Herzog</td>\n",
       "      <td>2018</td>\n",
       "      <td>Trends in Incidence of ACL Reconstruction and ...</td>\n",
       "      <td>The primary aim of this study was to describe ...</td>\n",
       "    </tr>\n",
       "  </tbody>\n",
       "</table>\n",
       "</div>"
      ],
      "text/plain": [
       "                                 File Name               First Author  \\\n",
       "0  00000_1-s2.0-S1096719217300525-main.txt           Deborah A Bilder   \n",
       "1       00001_10.1177_0033354919864363.txt  Madeleine M Baker-Goering   \n",
       "2       00002_10.1177_1176935117712520.txt         Sherif M El-Refai    \n",
       "3       00003_10.1177_1745506520965898.txt          Stephanie J Estes   \n",
       "4       00004_10.1177_1941738118803616.txt         Mackenzie M Herzog   \n",
       "\n",
       "  Publication Year                                        Study Title  \\\n",
       "0             2017  Neuropsychiatric comorbidities in adults with ...   \n",
       "1             2019  Association Between Self-Reported Hypertension...   \n",
       "2             2017  Immune Checkpoint Inhibition and the Prevalenc...   \n",
       "3             2020  The impact of high-risk and chronic opioid use...   \n",
       "4             2018  Trends in Incidence of ACL Reconstruction and ...   \n",
       "\n",
       "                                   Study Description  \n",
       "0  The purpose of the current study is to investi...  \n",
       "1  We examined whether patients whose insurance c...  \n",
       "2  We sought to identify, among patients with lun...  \n",
       "3  Evaluate all-cause and endometriosis-related h...  \n",
       "4  The primary aim of this study was to describe ...  "
      ]
     },
     "execution_count": 2,
     "metadata": {},
     "output_type": "execute_result"
    }
   ],
   "source": [
    "label_file = \"20210504_Labeling.csv\"\n",
    "new_label_file = \"20210513_Labeling.csv\"\n",
    "csv_dir = \"csv\"\n",
    "df = pd.read_csv(label_file, delimiter=\"\\t\", dtype=str)\n",
    "new_df = pd.DataFrame()\n",
    "csv_files = os.listdir(csv_dir)\n",
    "csv_names = [os.path.splitext(f[f.find('_')+1:])[0] for f in csv_files]\n",
    "name2file = {name:file for name, file in zip(csv_names, csv_files)}\n",
    "df.head()"
   ]
  },
  {
   "cell_type": "code",
   "execution_count": 3,
   "id": "86cadf1b-767f-4991-85e7-c19f9c6462d1",
   "metadata": {},
   "outputs": [
    {
     "name": "stdout",
     "output_type": "stream",
     "text": [
      "19-1493_(1)\n",
      "2017_20_E257-E268_(1)\n",
      "Incidence_and_Trends_of_Sepsis_in_US_Hospitals_Using_Clinical_vs_Claims_Data,_2009-2014(1)\n",
      "dic_212258_(1)\n",
      "i1523-5998-9-4-280\n",
      "nihms877831_(1)\n"
     ]
    }
   ],
   "source": [
    "for i, row in df.iterrows():\n",
    "    name = os.path.splitext(row['File Name'][row['File Name'].find('_')+1:])[0]\n",
    "    if name2file.get(name) is None:\n",
    "        print(name)\n",
    "    else:\n",
    "        row['File Name'] = name2file.get(name)\n",
    "        new_df = new_df.append(row, ignore_index=True)\n",
    "new_df['Publication Year'] = new_df['Publication Year'].astype(np.int32)\n",
    "new_df.to_csv(new_label_file, sep=\"\\t\")"
   ]
  },
  {
   "cell_type": "code",
   "execution_count": 4,
   "id": "023ce76b-007a-40bf-a1c6-852b7cee179b",
   "metadata": {},
   "outputs": [
    {
     "data": {
      "text/plain": [
       "153"
      ]
     },
     "execution_count": 4,
     "metadata": {},
     "output_type": "execute_result"
    }
   ],
   "source": [
    "len(new_df)"
   ]
  },
  {
   "cell_type": "code",
   "execution_count": null,
   "id": "f8fbeed7-771a-40be-a29e-b0792a98061a",
   "metadata": {},
   "outputs": [],
   "source": []
  }
 ],
 "metadata": {
  "kernelspec": {
   "display_name": "Python 3",
   "language": "python",
   "name": "python3"
  },
  "language_info": {
   "codemirror_mode": {
    "name": "ipython",
    "version": 3
   },
   "file_extension": ".py",
   "mimetype": "text/x-python",
   "name": "python",
   "nbconvert_exporter": "python",
   "pygments_lexer": "ipython3",
   "version": "3.7.10"
  }
 },
 "nbformat": 4,
 "nbformat_minor": 5
}

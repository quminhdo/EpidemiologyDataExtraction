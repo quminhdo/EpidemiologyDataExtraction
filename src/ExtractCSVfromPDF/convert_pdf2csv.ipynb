{
 "cells": [
  {
   "cell_type": "code",
   "execution_count": 1,
   "metadata": {
    "id": "dRZfsV78-jo5"
   },
   "outputs": [],
   "source": [
    "import os\n",
    "import pandas as pd\n",
    "from pdf_layout_scanner import layout_scanner\n",
    "import cv2\n",
    "import numpy as np\n",
    "from glob import glob"
   ]
  },
  {
   "cell_type": "code",
   "execution_count": null,
   "metadata": {},
   "outputs": [],
   "source": [
    "pdf_dir = 'Example_studies'\n",
    "csv_dir = 'csv'\n",
    "# image_dir = 'images'\n",
    "if not os.path.isdir(csv_dir):\n",
    "    os.makedirs(csv_dir)\n",
    "# if not os.path.isdir(image_dir):\n",
    "#     os.makedirs(image_dir)\n",
    "\n",
    "pdf_paths = sorted(glob(os.path.join(pdf_dir, \"*.pdf\")))\n",
    "i = 0\n",
    "for pdf_path in pdf_paths:\n",
    "    pages = layout_scanner.get_pages(pdf_path, return_df=True)\n",
    "    if pages is None:\n",
    "        print(\"Fail to convert\", pdf_path)\n",
    "        continue\n",
    "    name = os.path.splitext(os.path.basename(pdf_path))[0].replace(\" \", \"_\")\n",
    "    csv_path = os.path.join(csv_dir, \"%05d_%s.csv\"%(i, name))\n",
    "    pages.to_csv(csv_path)\n",
    "    i += 1"
   ]
  },
  {
   "cell_type": "code",
   "execution_count": null,
   "metadata": {},
   "outputs": [],
   "source": []
  }
 ],
 "metadata": {
  "colab": {
   "authorship_tag": "ABX9TyO7nerPeMb4PEuh5+Rqb1Oh",
   "collapsed_sections": [],
   "name": "convert_pdf2csv.ipynb",
   "provenance": []
  },
  "kernelspec": {
   "display_name": "Python 3",
   "language": "python",
   "name": "python3"
  },
  "language_info": {
   "codemirror_mode": {
    "name": "ipython",
    "version": 3
   },
   "file_extension": ".py",
   "mimetype": "text/x-python",
   "name": "python",
   "nbconvert_exporter": "python",
   "pygments_lexer": "ipython3",
   "version": "3.7.10"
  }
 },
 "nbformat": 4,
 "nbformat_minor": 4
}
